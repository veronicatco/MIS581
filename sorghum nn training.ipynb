{
 "cells": [
  {
   "cell_type": "markdown",
   "metadata": {},
   "source": [
    "# Sorghum Cultivar Identification\n",
    "## Training for convolution neural networks\n",
    "* Veronica Thompson\n",
    "* Colorado State University Global\n",
    "* MIS 581: Capstone\n",
    "* Dr. Orenthio Goodwin\n",
    "* 5/15/2022"
   ]
  },
  {
   "cell_type": "markdown",
   "metadata": {},
   "source": [
    "### import libraries"
   ]
  },
  {
   "cell_type": "code",
   "execution_count": null,
   "metadata": {
    "execution": {
     "iopub.execute_input": "2022-05-04T01:18:28.379720Z",
     "iopub.status.busy": "2022-05-04T01:18:28.379385Z",
     "iopub.status.idle": "2022-05-04T01:18:35.896828Z",
     "shell.execute_reply": "2022-05-04T01:18:35.895940Z",
     "shell.execute_reply.started": "2022-05-04T01:18:28.379618Z"
    }
   },
   "outputs": [],
   "source": [
    "from matplotlib import pyplot\n",
    "from os import listdir\n",
    "import numpy as np\n",
    "import pandas as pd\n",
    "from sklearn.model_selection import train_test_split\n",
    "from keras.models import Sequential, Model, load_model\n",
    "from keras.layers import Conv2D, Dropout, MaxPooling2D, Dense, Flatten\n",
    "from keras.preprocessing.image import ImageDataGenerator\n",
    "from keras.applications.vgg16 import VGG16\n",
    "from tensorflow.keras.optimizers import SGD\n",
    "import tensorflow as tf"
   ]
  },
  {
   "cell_type": "markdown",
   "metadata": {},
   "source": [
    "### import proper preprocess_input for vgg16 or resnet50 models"
   ]
  },
  {
   "cell_type": "code",
   "execution_count": null,
   "metadata": {},
   "outputs": [],
   "source": [
    "# from keras.applications.vgg16 import preprocess_input\n",
    "# from tensorflow.keras.applications.resnet50 import preprocess_input"
   ]
  },
  {
   "cell_type": "markdown",
   "metadata": {},
   "source": [
    "### Choose 224x224 or 128x128 pixels\n",
    "* Full set of input images was scaled to both 224x224 and 128x128 pixels\n",
    "* Show sample images"
   ]
  },
  {
   "cell_type": "code",
   "execution_count": null,
   "metadata": {},
   "outputs": [],
   "source": [
    "size = 128\n",
    "# size = 224"
   ]
  },
  {
   "cell_type": "code",
   "execution_count": null,
   "metadata": {},
   "outputs": [],
   "source": [
    "if size == 224:\n",
    "    train_folder = '../input/sorghum-224x224/train'\n",
    "else:\n",
    "    train_folder = '../input/sorghum-cultivar-identification-128128/train'"
   ]
  },
  {
   "cell_type": "code",
   "execution_count": null,
   "metadata": {
    "execution": {
     "iopub.execute_input": "2022-05-04T01:18:35.905162Z",
     "iopub.status.busy": "2022-05-04T01:18:35.903524Z",
     "iopub.status.idle": "2022-05-04T01:18:37.680798Z",
     "shell.execute_reply": "2022-05-04T01:18:37.680076Z",
     "shell.execute_reply.started": "2022-05-04T01:18:35.905121Z"
    }
   },
   "outputs": [],
   "source": [
    "for i, filename in zip(range(9), listdir(train_folder)[:9]):\n",
    "    pyplot.subplot(330 + 1 + i)\n",
    "    image = pyplot.imread(train_folder + '/' + filename)\n",
    "    pyplot.imshow(image)\n",
    "pyplot.show()"
   ]
  },
  {
   "cell_type": "markdown",
   "metadata": {},
   "source": [
    "### mapping_csv contains list of training image files and their cultivar classification"
   ]
  },
  {
   "cell_type": "code",
   "execution_count": null,
   "metadata": {
    "execution": {
     "iopub.execute_input": "2022-05-04T01:18:37.681961Z",
     "iopub.status.busy": "2022-05-04T01:18:37.681753Z",
     "iopub.status.idle": "2022-05-04T01:18:37.737152Z",
     "shell.execute_reply": "2022-05-04T01:18:37.736369Z",
     "shell.execute_reply.started": "2022-05-04T01:18:37.681934Z"
    }
   },
   "outputs": [],
   "source": [
    "mapping_csv = pd.read_csv('sorghum-id-fgvc-9/train_cultivar_mapping.csv')\n",
    "mapping_csv.dropna(inplace=True)\n",
    "mapping_csv.head()"
   ]
  },
  {
   "cell_type": "code",
   "execution_count": null,
   "metadata": {
    "execution": {
     "iopub.execute_input": "2022-05-04T01:18:37.739551Z",
     "iopub.status.busy": "2022-05-04T01:18:37.739292Z",
     "iopub.status.idle": "2022-05-04T01:18:44.581815Z",
     "shell.execute_reply": "2022-05-04T01:18:44.581045Z",
     "shell.execute_reply.started": "2022-05-04T01:18:37.739508Z"
    }
   },
   "outputs": [],
   "source": [
    "### look for missing image files\n",
    "\n",
    "list_f = listdir(train_folder)\n",
    "for index, data in mapping_csv.iterrows():\n",
    "    if not data['image'] in list_f:\n",
    "        print(data['image'])"
   ]
  },
  {
   "cell_type": "markdown",
   "metadata": {},
   "source": [
    "## Baseline Model\n",
    "Baseline model has one VGG-style block with two convolution laters and a max pooling layer. Model definition function also allows two or three VGG-style blocks and optional dropout."
   ]
  },
  {
   "cell_type": "code",
   "execution_count": null,
   "metadata": {
    "execution": {
     "iopub.execute_input": "2022-05-04T01:18:44.583426Z",
     "iopub.status.busy": "2022-05-04T01:18:44.583196Z",
     "iopub.status.idle": "2022-05-04T01:18:44.595337Z",
     "shell.execute_reply": "2022-05-04T01:18:44.594544Z",
     "shell.execute_reply.started": "2022-05-04T01:18:44.583395Z"
    }
   },
   "outputs": [],
   "source": [
    "def define_model_baseline(shape=(128,128,3), layers=1, dropout=False):\n",
    "    model = Sequential()\n",
    "    model.add(Conv2D(32, (3,3), activation='relu', \n",
    "                     kernel_initializer='he_uniform',\n",
    "                     padding='same', input_shape=shape))\n",
    "    model.add(Conv2D(32, (3,3), activation='relu', \n",
    "             kernel_initializer='he_uniform', padding='same'))\n",
    "    model.add(MaxPooling2D((2, 2)))\n",
    "    if dropout:\n",
    "        model.add(Dropout(0.2))\n",
    "    if layers >= 2:\n",
    "        model.add(Conv2D(64, (3,3), activation='relu', \n",
    "                         kernel_initializer='he_uniform', padding='same'))\n",
    "        model.add(Conv2D(64, (3,3), activation='relu', \n",
    "                         kernel_initializer='he_uniform', padding='same'))\n",
    "        model.add(MaxPooling2D((2, 2)))\n",
    "        if dropout:\n",
    "            model.add(Dropout(0.2))\n",
    "    if layers >= 3:\n",
    "        model.add(Conv2D(128, (3,3), activation='relu', \n",
    "                         kernel_initializer='he_uniform', padding='same'))\n",
    "        model.add(Conv2D(128, (3,3), activation='relu', \n",
    "                         kernel_initializer='he_uniform', padding='same'))\n",
    "        model.add(MaxPooling2D((2, 2)))\n",
    "        if dropout:\n",
    "            model.add(Dropout(0.2))\n",
    "    model.add(Flatten())\n",
    "    model.add(Dense(128, activation='relu', kernel_initializer='he_uniform'))\n",
    "    if dropout:\n",
    "        model.add(Dropout(0.5))\n",
    "    model.add(Dense(100, activation='softmax'))\n",
    "    opt = SGD(learning_rate=0.01, momentum=0.9)\n",
    "    model.compile(optimizer=opt, loss='categorical_crossentropy', \n",
    "                  metrics=['accuracy'])\n",
    "    return model"
   ]
  },
  {
   "cell_type": "markdown",
   "metadata": {},
   "source": [
    "## VGG16\n",
    "Pretrained VGG16 model with custom classification layer."
   ]
  },
  {
   "cell_type": "code",
   "execution_count": null,
   "metadata": {
    "execution": {
     "iopub.execute_input": "2022-05-04T01:18:44.596984Z",
     "iopub.status.busy": "2022-05-04T01:18:44.596615Z",
     "iopub.status.idle": "2022-05-04T01:18:44.606988Z",
     "shell.execute_reply": "2022-05-04T01:18:44.606291Z",
     "shell.execute_reply.started": "2022-05-04T01:18:44.596949Z"
    }
   },
   "outputs": [],
   "source": [
    "def define_model_vgg16(shape=(128, 128, 3)):\n",
    "    model = VGG16(include_top=False, input_shape=shape)\n",
    "    for layer in model.layers:\n",
    "        layer.trainable = False\n",
    "              \n",
    "    flat1 = Flatten()(model.layers[-1].output)\n",
    "    class1 = Dense(128, activation='relu', kernel_initializer='he_uniform')(flat1)\n",
    "    output = Dense(100, activation='softmax')(class1)\n",
    "    model = Model(inputs=model.inputs, outputs=output)\n",
    "    opt = SGD(learning_rate=0.001, momentum=0.9)\n",
    "    model.compile(optimizer=opt, loss='categorical_crossentropy', \n",
    "                  metrics=['accuracy'])\n",
    "    return model"
   ]
  },
  {
   "cell_type": "markdown",
   "metadata": {},
   "source": [
    "## ResNet50\n",
    "Pretrained ResNet50 model with custom classification layer."
   ]
  },
  {
   "cell_type": "code",
   "execution_count": null,
   "metadata": {
    "execution": {
     "iopub.execute_input": "2022-05-04T01:18:44.608544Z",
     "iopub.status.busy": "2022-05-04T01:18:44.608281Z",
     "iopub.status.idle": "2022-05-04T01:18:44.618981Z",
     "shell.execute_reply": "2022-05-04T01:18:44.618051Z",
     "shell.execute_reply.started": "2022-05-04T01:18:44.608499Z"
    }
   },
   "outputs": [],
   "source": [
    "def define_model_resnet50(shape=(128, 128, 3)):\n",
    "    model = ResNet50(include_top=False, input_shape=shape)\n",
    "    model.trainable = False\n",
    "              \n",
    "    flat1 = Flatten()(model.layers[-1].output)\n",
    "    class1 = Dense(128, activation='relu', kernel_initializer='he_uniform')(flat1)\n",
    "    output = Dense(100, activation='softmax')(class1)\n",
    "    model = Model(inputs=model.inputs, outputs=output)\n",
    "    opt = SGD(learning_rate=0.001, momentum=0.9)\n",
    "    model.compile(optimizer=opt, loss='categorical_crossentropy', \n",
    "                  metrics=['accuracy'])\n",
    "    return model"
   ]
  },
  {
   "cell_type": "markdown",
   "metadata": {},
   "source": [
    "## Training evaluation\n",
    "### Display loss and accuracy plots, save training histories"
   ]
  },
  {
   "cell_type": "code",
   "execution_count": null,
   "metadata": {
    "execution": {
     "iopub.execute_input": "2022-05-04T01:18:44.631456Z",
     "iopub.status.busy": "2022-05-04T01:18:44.631205Z",
     "iopub.status.idle": "2022-05-04T01:18:44.639061Z",
     "shell.execute_reply": "2022-05-04T01:18:44.638376Z",
     "shell.execute_reply.started": "2022-05-04T01:18:44.631420Z"
    }
   },
   "outputs": [],
   "source": [
    "def summarize_diagnostics(history):\n",
    "    pyplot.subplot(211)\n",
    "    pyplot.title('Cross Entropy Loss')\n",
    "    pyplot.plot(history.history['loss'], color='blue', label='train')\n",
    "    pyplot.plot(history.history['val_loss'], color='orange', label='test')\n",
    "    pyplot.subplot(212)\n",
    "    pyplot.title('Classification Accuracy')\n",
    "    pyplot.plot(history.history['accuracy'], color='blue', label='train')\n",
    "    pyplot.plot(history.history['val_accuracy'], color='orange', label='test')\n",
    "    pyplot.show()"
   ]
  },
  {
   "cell_type": "code",
   "execution_count": null,
   "metadata": {
    "execution": {
     "iopub.execute_input": "2022-05-04T01:18:44.650347Z",
     "iopub.status.busy": "2022-05-04T01:18:44.650173Z",
     "iopub.status.idle": "2022-05-04T01:18:44.657256Z",
     "shell.execute_reply": "2022-05-04T01:18:44.656596Z",
     "shell.execute_reply.started": "2022-05-04T01:18:44.650326Z"
    }
   },
   "outputs": [],
   "source": [
    "def save_diagnostics(history, filename):\n",
    "    df = pd.DataFrame(history.history)\n",
    "    with open(filename, mode='w') as f:\n",
    "        df.to_csv(f)"
   ]
  },
  {
   "cell_type": "markdown",
   "metadata": {},
   "source": [
    "### Train Model\n",
    "Trains selected model, saves model to .h5 file and training history to csv file"
   ]
  },
  {
   "cell_type": "code",
   "execution_count": null,
   "metadata": {
    "execution": {
     "iopub.execute_input": "2022-05-04T02:44:35.164897Z",
     "iopub.status.busy": "2022-05-04T02:44:35.164406Z",
     "iopub.status.idle": "2022-05-04T02:44:35.183439Z",
     "shell.execute_reply": "2022-05-04T02:44:35.182566Z",
     "shell.execute_reply.started": "2022-05-04T02:44:35.164847Z"
    }
   },
   "outputs": [],
   "source": [
    "def train_from_data_frame(saved_model=None):\n",
    "    \n",
    "    # Use rescale for baseline model, preprocessing function for VGG16 and ResNet50\n",
    "    \n",
    "    datagen_train = ImageDataGenerator(rescale=1.0/255.0,\n",
    "                                       # width_shift_range=0.1,\n",
    "                                       # height_shift_range=0.1,\n",
    "                                       # horizontal_flip=True,\n",
    "                                       # vertical_flip=True,\n",
    "                                       # preprocessing_function=preprocess_input)\n",
    "    \n",
    "    datagen_test = ImageDataGenerator(rescale=1.0/255.0\n",
    "                                      # preprocessing_function=preprocess_input)\n",
    "    \n",
    "    # divide training data into train and validation sets\n",
    "    train_df, test_df = train_test_split(mapping_csv, test_size=0.2, random_state=1)\n",
    "    \n",
    "    #prepare iterators\n",
    "    train_it = datagen_train.flow_from_dataframe(dataframe=train_df,\n",
    "                                                 directory=train_folder,\n",
    "                                                 x_col='image',\n",
    "                                                 y_col='cultivar',\n",
    "                                                 class_mode='categorical',\n",
    "                                                 target_size=(size, size),\n",
    "                                                 batch_size=128)\n",
    "    test_it = datagen_test.flow_from_dataframe(dataframe=test_df,\n",
    "                                               directory=train_folder,\n",
    "                                               x_col='image',\n",
    "                                               y_col='cultivar',\n",
    "                                               class_mode='categorical',\n",
    "                                               target_size=(size, size),\n",
    "                                               batch_size=128)\n",
    "\n",
    "    if saved_model:\n",
    "        model = load_model(saved_model)\n",
    "    else:       \n",
    "        model = define_model_baseline(shape=(size,size,3), layers=1, dropout=False)\n",
    "        # model = define_model_vgg16(shape=(size,size,3))\n",
    "        # model = define_model_resnet50(shape=(size,size,3))\n",
    "    \n",
    "    # print(model.summary())\n",
    "    \n",
    "    history = model.fit(train_it,\n",
    "                        steps_per_epoch=len(train_it),\n",
    "                        validation_data=test_it,\n",
    "                        validation_steps=len(test_it),\n",
    "                        epochs=10)\n",
    "    _, acc = model.evaluate(test_it, steps=len(test_it))\n",
    "    # display accuracy results\n",
    "    print('> %.3f' % (acc * 100.0))\n",
    "    summarize_diagnostics(history)\n",
    "                                      \n",
    "    # save model and training history                                  \n",
    "    out_name = 'baseline_128x128'\n",
    "    save_diagnostics(history, out_name + '_history.csv')\n",
    "    model.save(out_name + '_model.h5')"
   ]
  },
  {
   "cell_type": "code",
   "execution_count": null,
   "metadata": {
    "execution": {
     "iopub.execute_input": "2022-05-04T01:18:44.673010Z",
     "iopub.status.busy": "2022-05-04T01:18:44.672762Z",
     "iopub.status.idle": "2022-05-04T01:18:44.681731Z",
     "shell.execute_reply": "2022-05-04T01:18:44.681051Z",
     "shell.execute_reply.started": "2022-05-04T01:18:44.672972Z"
    }
   },
   "outputs": [],
   "source": [
    "train_from_data_frame()"
   ]
  },
  {
   "cell_type": "code",
   "execution_count": null,
   "metadata": {
    "execution": {
     "iopub.execute_input": "2022-05-04T02:44:46.898609Z",
     "iopub.status.busy": "2022-05-04T02:44:46.898342Z",
     "iopub.status.idle": "2022-05-04T03:25:43.638700Z",
     "shell.execute_reply": "2022-05-04T03:25:43.637983Z",
     "shell.execute_reply.started": "2022-05-04T02:44:46.898579Z"
    }
   },
   "outputs": [],
   "source": [
    "# train_from_data_frame('resnet50_shiftflip_ep111-130_model.h5')"
   ]
  },
  {
   "cell_type": "code",
   "execution_count": null,
   "metadata": {},
   "outputs": [],
   "source": []
  }
 ],
 "metadata": {
  "kernelspec": {
   "display_name": "Python 3 (ipykernel)",
   "language": "python",
   "name": "python3"
  },
  "language_info": {
   "codemirror_mode": {
    "name": "ipython",
    "version": 3
   },
   "file_extension": ".py",
   "mimetype": "text/x-python",
   "name": "python",
   "nbconvert_exporter": "python",
   "pygments_lexer": "ipython3",
   "version": "3.8.12"
  }
 },
 "nbformat": 4,
 "nbformat_minor": 4
}
